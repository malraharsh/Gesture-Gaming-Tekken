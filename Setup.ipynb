{
 "cells": [
  {
   "cell_type": "markdown",
   "metadata": {},
   "source": [
    "## Run this notebook only for Setup."
   ]
  },
  {
   "cell_type": "code",
   "execution_count": 1,
   "metadata": {},
   "outputs": [],
   "source": [
    "import numpy as np\n",
    "\n",
    "import cv2\n",
    "import time\n",
    "\n",
    "import imutils\n",
    "\n",
    "from imutils.video import FileVideoStream, VideoStream\n",
    "\n",
    "%reload_ext autoreload\n",
    "%autoreload 2\n",
    "\n",
    "from Switch import Buttons\n",
    "from utils import *\n",
    "\n",
    "from directkeys import *\n",
    "# from Switch import Actions, ButtonsData"
   ]
  },
  {
   "cell_type": "markdown",
   "metadata": {},
   "source": [
    "### Face Bbox. Use this to make bbox around the face"
   ]
  },
  {
   "cell_type": "code",
   "execution_count": 4,
   "metadata": {},
   "outputs": [],
   "source": [
    "# fvs = FileVideoStream(path).start()\n",
    "fvs = cv2.VideoCapture(path)\n",
    "\n",
    "time.sleep(0.2) #to allow web cam to open\n",
    "\n",
    "TIMER_SETUP = 3.0 # timer for capturing base image, get ready in posture\n",
    "t = time.time()\n",
    "\n",
    "while True:\n",
    "    frame = get_framecv2(fvs)\n",
    "    frame = imutils.resize(frame, width=SIZE_WIDTH, height=SIZE_HEIGHT) \n",
    "    curr = (time.time() - t)\n",
    "    if curr > TIMER_SETUP or frame is None: # break when timers up\n",
    "        break\n",
    "    cv2.putText(frame, str(int(TIMER_SETUP - curr)+1), (225,255), cv2.FONT_HERSHEY_SIMPLEX, 1.5, COLOR_RED, 4)\n",
    "    cv2.imshow(\"Setup\", frame)\n",
    "    cv2.waitKey(1)\n",
    "\n",
    "FRAME = frame.copy() # saving it for re-runs (later)\n",
    "cv2.destroyAllWindows()\n",
    "\n",
    "# Make box around face\n",
    "cv2.putText(frame, 'Make bbox around Face', (30,30), cv2.FONT_HERSHEY_SIMPLEX, 0.75, COLOR_RED, 2)\n",
    "bbox = cv2.selectROI(frame, False) # bounding box for face\n",
    "cent = get_centroid(bbox)\n",
    "BB = bbox # saving it for later\n",
    "\n",
    "cv2.destroyAllWindows()\n",
    "fvs.release()\n",
    "\n",
    "print(BB)"
   ]
  },
  {
   "cell_type": "code",
   "execution_count": 3,
   "metadata": {},
   "outputs": [],
   "source": [
    "cv2.destroyAllWindows()\n",
    "fvs.release()"
   ]
  },
  {
   "cell_type": "markdown",
   "metadata": {},
   "source": [
    "## Paste the output on Switch.py"
   ]
  },
  {
   "cell_type": "code",
   "execution_count": 9,
   "metadata": {
    "scrolled": true
   },
   "outputs": [
    {
     "name": "stdout",
     "output_type": "stream",
     "text": [
      "bbox_body = (280, 104, 74, 75) \n",
      "bbox_switch = [(279, 103, 35, 72)]\n"
     ]
    }
   ],
   "source": [
    "b = Buttons(bbox_body=BB, n=1, training=True)"
   ]
  }
 ],
 "metadata": {
  "kernelspec": {
   "display_name": "Python 3",
   "language": "python",
   "name": "python3"
  },
  "language_info": {
   "codemirror_mode": {
    "name": "ipython",
    "version": 3
   },
   "file_extension": ".py",
   "mimetype": "text/x-python",
   "name": "python",
   "nbconvert_exporter": "python",
   "pygments_lexer": "ipython3",
   "version": "3.7.5"
  }
 },
 "nbformat": 4,
 "nbformat_minor": 2
}
