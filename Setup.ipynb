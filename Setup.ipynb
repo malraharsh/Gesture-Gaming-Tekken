{
 "cells": [
  {
   "cell_type": "markdown",
   "metadata": {},
   "source": [
    "## Run this notebook only for Setup."
   ]
  },
  {
   "cell_type": "code",
   "execution_count": 8,
   "metadata": {},
   "outputs": [],
   "source": [
    "import numpy as np\n",
    "\n",
    "import cv2\n",
    "import time\n",
    "\n",
    "import imutils\n",
    "\n",
    "from imutils.video import FileVideoStream, VideoStream\n",
    "\n",
    "%reload_ext autoreload\n",
    "%autoreload 2\n",
    "\n",
    "from Switch import Buttons\n",
    "from utils import *\n",
    "\n",
    "from directkeys import *\n",
    "# from Switch import Actions, ButtonsData"
   ]
  },
  {
   "cell_type": "code",
   "execution_count": null,
   "metadata": {},
   "outputs": [],
   "source": [
    "# path = 'Materials/Images/vid_small.mp4' # video source\n",
    "path = 0 # Webcam"
   ]
  },
  {
   "cell_type": "markdown",
   "metadata": {},
   "source": [
    "### Face Bbox. Use this to make bbox around the face"
   ]
  },
  {
   "cell_type": "code",
   "execution_count": null,
   "metadata": {},
   "outputs": [],
   "source": [
    "# fvs = FileVideoStream(path).start()\n",
    "fvs = cv2.VideoCapture(path)\n",
    "\n",
    "time.sleep(0.2) #to allow web cam to open\n",
    "\n",
    "TIMER_SETUP = 10.0 # timer for capturing base image, get ready in posture\n",
    "t = time.time()\n",
    "\n",
    "while True:\n",
    "    frame = get_framecv2(fvs)\n",
    "    frame = imutils.resize(frame, width=SIZE_WIDTH, height=SIZE_HEIGHT) \n",
    "    curr = (time.time() - t)\n",
    "    if curr > TIMER_SETUP or frame is None: # break when timers up\n",
    "        break\n",
    "    cv2.putText(frame, str(int(TIMER_SETUP - curr)+1), (225,255), cv2.FONT_HERSHEY_SIMPLEX, 1.5, COLOR_RED, 4)\n",
    "    cv2.imshow(\"Setup\", frame)\n",
    "    cv2.waitKey(1)\n",
    "\n",
    "FRAME = frame.copy() # saving it for re-runs (later)\n",
    "cv2.destroyAllWindows()\n",
    "\n",
    "# Make box around face\n",
    "cv2.putText(frame, 'Make bbox around Face', (30,30), cv2.FONT_HERSHEY_SIMPLEX, 0.75, COLOR_RED, 2)\n",
    "bbox = cv2.selectROI(frame, False) # bounding box for face\n",
    "cent = get_centroid(bbox)\n",
    "BB = bbox # saving it for later\n",
    "\n",
    "cv2.destroyAllWindows()\n",
    "fvs.release()\n",
    "\n",
    "print(BB)"
   ]
  },
  {
   "cell_type": "code",
   "execution_count": 2,
   "metadata": {},
   "outputs": [],
   "source": [
    "BB = (280, 104, 74, 75)"
   ]
  },
  {
   "cell_type": "code",
   "execution_count": null,
   "metadata": {},
   "outputs": [],
   "source": [
    "cv2.destroyAllWindows()\n",
    "fvs.release()"
   ]
  },
  {
   "cell_type": "code",
   "execution_count": 9,
   "metadata": {},
   "outputs": [
    {
     "name": "stdout",
     "output_type": "stream",
     "text": [
      "bbox_body = (280, 104, 74, 75) \n",
      "bbox_switch = [(279, 103, 35, 72)]\n"
     ]
    }
   ],
   "source": [
    "b = Buttons(bbox_body=BB, n=1, training=True)"
   ]
  },
  {
   "cell_type": "code",
   "execution_count": null,
   "metadata": {
    "scrolled": false
   },
   "outputs": [],
   "source": [
    "# b = Buttons(training=False)\n",
    "# # b.action = Actions(b.center_point)\n",
    "# frame, bbox = FRAME, BB\n",
    "\n",
    "# tracker = cv2.TrackerCSRT_create()\n",
    "# # Initialize tracker with first frame and bounding box\n",
    "# tracker.init(FRAME, BB)\n",
    "# # fvs = FileVideoStream(path).start()\n",
    "# fvs = cv2.VideoCapture(path)\n",
    "# # fps = FPS().start()\n",
    "\n",
    "# TIMER_SETUP = 5\n",
    "# t = time.time()\n",
    "\n",
    "# while True:\n",
    "#     frame = get_framecv2(fvs)\n",
    "    \n",
    "#     curr = (time.time() - t)\n",
    "#     if curr > TIMER_SETUP or frame is None:\n",
    "#         break\n",
    "#     cv2.putText(frame, str(int(TIMER_SETUP - curr)+1), (225,255), cv2.FONT_HERSHEY_SIMPLEX, 1.5, COLOR_RED, 4)\n",
    "#     drawbox(True, bbox, frame)\n",
    "    \n",
    "#     cv2.imshow(\"Tracking\", frame)\n",
    "#     cv2.waitKey(1)\n",
    "\n",
    "# # cv2.destroyAllWindows()\n",
    "\n",
    "# #After the timer finishes, now your actions will be recorded, and will be mapped to key in game.\n",
    "# while True:\n",
    "#     frame = get_framecv2(fvs)\n",
    "#     copy = frame.copy()\n",
    "#     if frame is None:\n",
    "#         break        \n",
    "# #     frame = imutils.resize(frame, width=300, height=300)\n",
    "#     _, bbox = tracker.update(frame) \n",
    "#     drawbox(True, bbox, frame)\n",
    "#     b.run(frame, get_centroid(bbox))    \n",
    "# #     cv2.imshow('Image', copy)\n",
    "#     copy = imutils.resize(copy, width=400, height=400)\n",
    "\n",
    "#     cv2.imshow(\"Tracking\", frame) #orig video frames\n",
    "\n",
    "#     k = cv2.waitKey(1)\n",
    "\n",
    "#     if k == 13: #13 is the Enter Key\n",
    "#         break\n",
    "    \n",
    "# cv2.destroyAllWindows()\n",
    "# # fvs.stop()\n",
    "# fvs.release()"
   ]
  },
  {
   "cell_type": "code",
   "execution_count": null,
   "metadata": {},
   "outputs": [],
   "source": [
    "cv2.destroyAllWindows()\n",
    "fvs.release()"
   ]
  }
 ],
 "metadata": {
  "kernelspec": {
   "display_name": "Python 3",
   "language": "python",
   "name": "python3"
  },
  "language_info": {
   "codemirror_mode": {
    "name": "ipython",
    "version": 3
   },
   "file_extension": ".py",
   "mimetype": "text/x-python",
   "name": "python",
   "nbconvert_exporter": "python",
   "pygments_lexer": "ipython3",
   "version": "3.7.5"
  }
 },
 "nbformat": 4,
 "nbformat_minor": 2
}
