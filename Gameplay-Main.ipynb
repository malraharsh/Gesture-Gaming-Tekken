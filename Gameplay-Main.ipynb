{
 "cells": [
  {
   "cell_type": "code",
   "execution_count": 4,
   "metadata": {},
   "outputs": [],
   "source": [
    "import numpy as np\n",
    "\n",
    "import cv2\n",
    "import time\n",
    "\n",
    "import imutils\n",
    "\n",
    "from imutils.video import FileVideoStream, VideoStream\n",
    "\n",
    "%reload_ext autoreload\n",
    "%autoreload 2\n",
    "\n",
    "from Switch import Buttons, bbox_body\n",
    "from utils import *\n",
    "\n",
    "from directkeys import *"
   ]
  },
  {
   "cell_type": "code",
   "execution_count": 2,
   "metadata": {},
   "outputs": [],
   "source": [
    "BB = bbox = bbox_body\n",
    "cent = get_centroid(BB)"
   ]
  },
  {
   "cell_type": "code",
   "execution_count": 7,
   "metadata": {
    "scrolled": false
   },
   "outputs": [],
   "source": [
    "button = Buttons(training=False)\n",
    "tracker = cv2.TrackerCSRT_create()\n",
    "fvs = cv2.VideoCapture(path)\n",
    "TIMER_SETUP = 3\n",
    "t = time.time()\n",
    "\n",
    "while True:\n",
    "    frame = get_framecv2(fvs)    \n",
    "    curr = (time.time() - t)\n",
    "    if curr > TIMER_SETUP or frame is None:\n",
    "        break\n",
    "    cv2.putText(frame, str(int(TIMER_SETUP - curr)+1), (225,255), cv2.FONT_HERSHEY_SIMPLEX, 1.5, COLOR_RED, 4)\n",
    "    cv2.putText(frame, 'Keep your face inside the box', POS_SCREEN, cv2.FONT_HERSHEY_SIMPLEX, 1, COLOR_RED, 4)\n",
    "    drawbox(True, bbox, frame)    \n",
    "    cv2.imshow(\"Tracking\", frame)\n",
    "    cv2.waitKey(1)\n",
    "\n",
    "tracker.init(frame, BB)\n",
    "\n",
    "#After the timer finishes, now your actions will be recorded, and will be mapped to key in game.\n",
    "while True:\n",
    "    frame = get_framecv2(fvs)\n",
    "    if frame is None:\n",
    "        break        \n",
    "    copy = frame.copy()\n",
    "    _, bbox = tracker.update(frame) \n",
    "    drawbox(True, bbox, frame)\n",
    "    button.run(frame, get_centroid(bbox))    \n",
    "\n",
    "    cv2.imshow(\"Tracking\", frame) # orig video frames\n",
    "\n",
    "    k = cv2.waitKey(1)\n",
    "\n",
    "    if k == 13: #13 is the Enter Key\n",
    "        break\n",
    "    \n",
    "cv2.destroyAllWindows()\n",
    "fvs.release()"
   ]
  },
  {
   "cell_type": "code",
   "execution_count": null,
   "metadata": {},
   "outputs": [],
   "source": [
    "cv2.destroyAllWindows()\n",
    "fvs.release()"
   ]
  }
 ],
 "metadata": {
  "kernelspec": {
   "display_name": "Python 3",
   "language": "python",
   "name": "python3"
  },
  "language_info": {
   "codemirror_mode": {
    "name": "ipython",
    "version": 3
   },
   "file_extension": ".py",
   "mimetype": "text/x-python",
   "name": "python",
   "nbconvert_exporter": "python",
   "pygments_lexer": "ipython3",
   "version": "3.7.5"
  }
 },
 "nbformat": 4,
 "nbformat_minor": 2
}
